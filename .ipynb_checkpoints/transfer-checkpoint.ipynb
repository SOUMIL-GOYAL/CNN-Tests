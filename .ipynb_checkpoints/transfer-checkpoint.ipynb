{
 "cells": [
  {
   "cell_type": "code",
   "execution_count": null,
   "metadata": {
    "colab": {
     "base_uri": "https://localhost:8080/",
     "height": 1000
    },
    "colab_type": "code",
    "id": "byNJRoh6hzCk",
    "outputId": "a0266116-c7b5-43a0-f44d-3d320e3dd192"
   },
   "outputs": [
    {
     "name": "stderr",
     "output_type": "stream",
     "text": [
      "Using TensorFlow backend.\n"
     ]
    }
   ],
   "source": [
    "from sklearn.datasets import load_files       \n",
    "from keras.utils import np_utils\n",
    "import numpy as np\n",
    "from glob import glob\n",
    "from keras.applications.resnet50 import preprocess_input, decode_predictions\n",
    "from keras.applications.resnet50 import ResNet50\n",
    "from keras.preprocessing import image                  \n",
    "from tqdm import tqdm\n",
    "from keras.applications.resnet50 import ResNet50, preprocess_input\n",
    "from keras.preprocessing.image import ImageDataGenerator\n",
    "from keras.layers import Dense, Activation, Flatten, Dropout\n",
    "from keras.models import Sequential, Model\n",
    "from keras.optimizers import SGD, Adam\n",
    "from keras.callbacks import ModelCheckpoint\n",
    "import matplotlib.pyplot as plt\n",
    "import os\n",
    "import tensorflow as tf\n",
    "import cv2\n",
    "\n",
    "#import data of resized data\n",
    "x_train = np.load('task2/task2_X_train.npy')\n",
    "x_test = np.load('task2/task2_X_test.npy')\n",
    "y_train = np.load('task2/task2_y_train.npy')\n",
    "y_test = np.load('task2/task2_y_test.npy')"
   ]
  },
  {
   "cell_type": "code",
   "execution_count": null,
   "metadata": {},
   "outputs": [],
   "source": [
    "index = 0\n",
    "size = int(np.size(x_train, axis=0))\n",
    "resize = np.zeros([size, 50, 50, 3])\n",
    "for img in x_train:\n",
    "    resize[index] = cv2.resize(img, dsize=(50, 50), interpolation=cv2.INTER_CUBIC)\n",
    "    index += 1\n",
    "print(resize.shape)"
   ]
  },
  {
   "cell_type": "code",
   "execution_count": null,
   "metadata": {},
   "outputs": [],
   "source": [
    "x_train = resize\n",
    "index = 0\n",
    "size = int(np.size(x_test, axis=0))\n",
    "resize1 = np.zeros([size, 50, 50, 3])\n",
    "for img in x_test:\n",
    "    resize1[index] = cv2.resize(img, dsize=(50, 50), interpolation=cv2.INTER_CUBIC)\n",
    "    index += 1\n",
    "print(resize1.shape)\n",
    "x_test = resize1"
   ]
  },
  {
   "cell_type": "code",
   "execution_count": null,
   "metadata": {},
   "outputs": [],
   "source": [
    "y_train = np.load('task2/task2_y_train.npy')\n",
    "x_train = resize\n",
    "y_size = y_train\n",
    "y_train = y_size"
   ]
  },
  {
   "cell_type": "code",
   "execution_count": 5,
   "metadata": {},
   "outputs": [
    {
     "data": {
      "text/plain": [
       "(5000, 50, 50, 3)"
      ]
     },
     "execution_count": 5,
     "metadata": {},
     "output_type": "execute_result"
    }
   ],
   "source": [
    "x_train.shape"
   ]
  },
  {
   "cell_type": "code",
   "execution_count": 6,
   "metadata": {},
   "outputs": [
    {
     "name": "stderr",
     "output_type": "stream",
     "text": [
      "/usr/local/lib/python3.6/dist-packages/keras_applications/resnet50.py:265: UserWarning: The output shape of `ResNet50(include_top=False)` has been changed since Keras 2.2.0.\n",
      "  warnings.warn('The output shape of `ResNet50(include_top=False)` '\n"
     ]
    },
    {
     "name": "stdout",
     "output_type": "stream",
     "text": [
      "Epoch 1/1\n",
      "19/19 [==============================] - 1145s 60s/step - loss: 0.5235 - accuracy: 0.7885\n",
      "\n",
      "Epoch 00001: saving model to ./cp_2.ckpt\n"
     ]
    },
    {
     "data": {
      "image/png": "[encoded data removed]",
      "text/plain": [
       "<Figure size 432x288 with 1 Axes>"
      ]
     },
     "metadata": {
      "needs_background": "light"
     },
     "output_type": "display_data"
    }
   ],
   "source": [
    "# create base model \n",
    "base = ResNet50(weights='imagenet', input_shape=(50, 50, 3), include_top=False)\n",
    "\n",
    "#output classes \n",
    "class_list =  [0,1]\n",
    "\n",
    "#build food model based on ResNet50\n",
    "x = base.output\n",
    "x = Flatten()(x)\n",
    "fc1 = Dense(1024, activation='relu')(x) \n",
    "fc2 = Dense(1024, activation='relu')(fc1) \n",
    "x = Dropout(0.5)(fc2)\n",
    "predictions = Dense(len(class_list), activation='softmax')(x) \n",
    "food_model = Model(inputs=base.input, outputs=predictions)\n",
    "\n",
    "#fix layer weight in pre-trained RNN\n",
    "for layer in base.layers:\n",
    "  layer.trainable = False\n",
    "\n",
    "#trainning\n",
    "batch_size = 256\n",
    "total_images = 5000\n",
    "\n",
    "adam = Adam(lr=0.00001)\n",
    "food_model.compile(adam, loss='categorical_crossentropy', metrics=['accuracy'])\n",
    "\n",
    "#save the weights \n",
    "checkpoint_path = \"./cp_2.ckpt\" \n",
    "checkpoint_dir = os.path.dirname(checkpoint_path)\n",
    "\n",
    "# Create checkpoint callback\n",
    "cp_callback = ModelCheckpoint(checkpoint_path, \n",
    "                                                 save_weights_only=True,\n",
    "                                                 verbose=1)\n",
    "\n",
    "history = food_model.fit(x_train, y_train,epochs= 1, steps_per_epoch=total_images // batch_size, shuffle=True,callbacks = [cp_callback], workers = 8)\n",
    "\n",
    "\n",
    "# Plot training & validation accuracy values\n",
    "plt.plot(history.history['accuracy'])\n",
    "plt.title('Model accuracy')\n",
    "plt.ylabel('Accuracy')\n",
    "plt.xlabel('Epoch')\n",
    "plt.show()\n",
    "\n"
   ]
  },
  {
   "cell_type": "code",
   "execution_count": 10,
   "metadata": {},
   "outputs": [
    {
     "data": {
      "image/png": "[encoded data removed]",
      "text/plain": [
       "<Figure size 432x288 with 1 Axes>"
      ]
     },
     "metadata": {
      "needs_background": "light"
     },
     "output_type": "display_data"
    }
   ],
   "source": [
    "\n",
    "\n",
    "\n",
    "plt.plot(history.history['loss'])\n",
    "plt.title('Model Loss')\n",
    "plt.ylabel('Accuracy')\n",
    "plt.xlabel('Epoch')\n",
    "plt.show()\n",
    "\n"
   ]
  },
  {
   "cell_type": "code",
   "execution_count": 8,
   "metadata": {},
   "outputs": [],
   "source": [
    "from keras.applications.resnet50 import preprocess_input, decode_predictions\n",
    "\n",
    "def ResNet50_predict_labels(img_path):\n",
    "    # returns prediction vector for image located at img_path\n",
    "    img = preprocess_input(path_to_tensor(img_path))\n",
    "    arr =food_model.predict(img)\n",
    "    return np.argsort(-arr)[:3]"
   ]
  },
  {
   "cell_type": "code",
   "execution_count": 27,
   "metadata": {},
   "outputs": [
    {
     "name": "stdout",
     "output_type": "stream",
     "text": [
      "1460/1460 [==============================] - 12s 8ms/step\n"
     ]
    },
    {
     "data": {
      "text/plain": [
       "[0.9973778607094125, 0.5034246444702148]"
      ]
     },
     "execution_count": 27,
     "metadata": {},
     "output_type": "execute_result"
    }
   ],
   "source": [
    " food_model.evaluate(x_test, y_test)"
   ]
  },
  {
   "cell_type": "code",
   "execution_count": 8,
   "metadata": {},
   "outputs": [
    {
     "name": "stdout",
     "output_type": "stream",
     "text": [
      "1460/1460 [==============================] - 13s 9ms/step\n",
      "0.5102739930152893\n"
     ]
    }
   ],
   "source": [
    "test_loss, test_acc = food_model.evaluate(x_test, y_test)\n",
    "print(test_acc)"
   ]
  },
  {
   "cell_type": "code",
   "execution_count": 16,
   "metadata": {},
   "outputs": [
    {
     "name": "stdout",
     "output_type": "stream",
     "text": [
      "1000/1000 [==============================] - 10s 10ms/step\n",
      "0.7450000047683716\n"
     ]
    }
   ],
   "source": [
    "test_loss, test_acc = food_model.evaluate(x_test[0:1000], y_test[0:1000])\n",
    "print(test_acc)"
   ]
  },
  {
   "cell_type": "code",
   "execution_count": 28,
   "metadata": {},
   "outputs": [
    {
     "name": "stdout",
     "output_type": "stream",
     "text": [
      "1460/1460 [==============================] - 16s 11ms/step\n",
      "0.5034246444702148\n"
     ]
    }
   ],
   "source": [
    "test_loss, test_acc = food_model.evaluate(x_test, y_test)\n",
    "print(test_acc)"
   ]
  },
  {
   "cell_type": "code",
   "execution_count": 24,
   "metadata": {},
   "outputs": [
    {
     "data": {
      "text/plain": [
       "<keras.engine.training.Model at 0x7fb778f697b8>"
      ]
     },
     "execution_count": 24,
     "metadata": {},
     "output_type": "execute_result"
    }
   ],
   "source": []
  },
  {
   "cell_type": "code",
   "execution_count": 9,
   "metadata": {},
   "outputs": [
    {
     "name": "stdout",
     "output_type": "stream",
     "text": [
      "1460/1460 [==============================] - 26s 18ms/step\n",
      "0.5102739930152893\n"
     ]
    }
   ],
   "source": [
    "test_loss, test_acc = food_model.evaluate(x_test, y_test)\n",
    "print(test_acc)"
   ]
  },
  {
   "cell_type": "code",
   "execution_count": null,
   "metadata": {},
   "outputs": [],
   "source": []
  },
  {
   "cell_type": "code",
   "execution_count": null,
   "metadata": {},
   "outputs": [
    {
     "name": "stdout",
     "output_type": "stream",
     "text": [
      " 416/1460 [=======>......................] - ETA: 12s"
     ]
    }
   ],
   "source": [
    "test_loss, test_acc = food_model.evaluate(x_test, y_test)\n",
    "print(test_acc)"
   ]
  },
  {
   "cell_type": "code",
   "execution_count": null,
   "metadata": {},
   "outputs": [],
   "source": []
  }
 ],
 "metadata": {
  "accelerator": "GPU",
  "colab": {
   "collapsed_sections": [],
   "name": "Copy of CNN Project.ipynb",
   "provenance": []
  },
  "kernelspec": {
   "display_name": "Python 3",
   "language": "python",
   "name": "python3"
  },
  "language_info": {
   "codemirror_mode": {
    "name": "ipython",
    "version": 3
   },
   "file_extension": ".py",
   "mimetype": "text/x-python",
   "name": "python",
   "nbconvert_exporter": "python",
   "pygments_lexer": "ipython3",
   "version": "3.6.7"
  }
 },
 "nbformat": 4,
 "nbformat_minor": 1
}
